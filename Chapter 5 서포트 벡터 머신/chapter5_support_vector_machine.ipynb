{
 "cells": [
  {
   "cell_type": "markdown",
   "metadata": {},
   "source": [
    "서포트 벡터 머신(SVM)은 선형 분류, 비선형 분류, 회귀, 이상치 탐색에서도 사용할 수 있는 다목적 머신러닝 모델이다.  \n",
    "특히 복잡한 분류 문제에 잘 들어맞으며 작거나 중간 크기의 데이터셋에 적합하다."
   ]
  },
  {
   "cell_type": "markdown",
   "metadata": {},
   "source": [
    "# 선형 SVM 분류"
   ]
  },
  {
   "cell_type": "markdown",
   "metadata": {},
   "source": [
    "SVM 분류기를 클래스 사이에서 가장 폭이 넓은 도로를 찾는 것으로 생각할 수 있다. 그래서 이를 라지 마진 분류라고 한다."
   ]
  },
  {
   "cell_type": "markdown",
   "metadata": {},
   "source": [
    "도로 바깥쪽에 훈련 샘플을 추가해도 결정 경계에는 전혀 영향을 미치지 않는다. 결정 경계는 도로 경계에 위치한 샘플에 의해 전적으로 결정된다. 이러한 샘플을 서포트 벡터라고 한다. 여기서 벡터는 점이라고 보면 되고, 서포트 벡터는 결정 경계를 정하는 데에 도움을 주는 점이라고 보면 된다. 결정 경계가 서포트 벡터에 의해 정해지기 때문에 이렇게 학습된 모델을 서포터 벡터 머신이라고 부르는 것 같다."
   ]
  },
  {
   "cell_type": "markdown",
   "metadata": {},
   "source": [
    "원리는 [링크1](https://sanghyu.tistory.com/7), [링크2](https://zephyrus1111.tistory.com/211)를 참고해서 공부하면 된다."
   ]
  }
 ],
 "metadata": {
  "language_info": {
   "name": "python"
  }
 },
 "nbformat": 4,
 "nbformat_minor": 2
}
